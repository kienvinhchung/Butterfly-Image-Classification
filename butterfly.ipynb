{
 "cells": [
  {
   "cell_type": "code",
   "execution_count": 3,
   "metadata": {},
   "outputs": [
    {
     "name": "stdout",
     "output_type": "stream",
     "text": [
      "Downloading from https://www.kaggle.com/api/v1/datasets/download/phucthaiv02/butterfly-image-classification?dataset_version_number=2...\n"
     ]
    },
    {
     "name": "stderr",
     "output_type": "stream",
     "text": [
      "100%|██████████| 226M/226M [00:04<00:00, 56.0MB/s] "
     ]
    },
    {
     "name": "stdout",
     "output_type": "stream",
     "text": [
      "Extracting files...\n"
     ]
    },
    {
     "name": "stderr",
     "output_type": "stream",
     "text": [
      "\n"
     ]
    },
    {
     "name": "stdout",
     "output_type": "stream",
     "text": [
      "Path to dataset files: /Users/keenechung/.cache/kagglehub/datasets/phucthaiv02/butterfly-image-classification/versions/2\n"
     ]
    }
   ],
   "source": [
    "import kagglehub\n",
    "\n",
    "path = kagglehub.dataset_download(\"phucthaiv02/butterfly-image-classification\")\n",
    "\n",
    "print(\"Path to dataset files:\", path)"
   ]
  },
  {
   "cell_type": "code",
   "execution_count": 4,
   "metadata": {},
   "outputs": [],
   "source": [
    "import pandas as pd"
   ]
  },
  {
   "cell_type": "code",
   "execution_count": 5,
   "metadata": {},
   "outputs": [],
   "source": [
    "df = pd.read_csv(path + \"/Training_set.csv\")"
   ]
  },
  {
   "cell_type": "code",
   "execution_count": 9,
   "metadata": {},
   "outputs": [
    {
     "data": {
      "text/html": [
       "<div>\n",
       "<style scoped>\n",
       "    .dataframe tbody tr th:only-of-type {\n",
       "        vertical-align: middle;\n",
       "    }\n",
       "\n",
       "    .dataframe tbody tr th {\n",
       "        vertical-align: top;\n",
       "    }\n",
       "\n",
       "    .dataframe thead th {\n",
       "        text-align: right;\n",
       "    }\n",
       "</style>\n",
       "<table border=\"1\" class=\"dataframe\">\n",
       "  <thead>\n",
       "    <tr style=\"text-align: right;\">\n",
       "      <th></th>\n",
       "      <th>filename</th>\n",
       "      <th>label</th>\n",
       "    </tr>\n",
       "  </thead>\n",
       "  <tbody>\n",
       "    <tr>\n",
       "      <th>0</th>\n",
       "      <td>Image_1.jpg</td>\n",
       "      <td>SOUTHERN DOGFACE</td>\n",
       "    </tr>\n",
       "    <tr>\n",
       "      <th>1</th>\n",
       "      <td>Image_2.jpg</td>\n",
       "      <td>ADONIS</td>\n",
       "    </tr>\n",
       "    <tr>\n",
       "      <th>2</th>\n",
       "      <td>Image_3.jpg</td>\n",
       "      <td>BROWN SIPROETA</td>\n",
       "    </tr>\n",
       "    <tr>\n",
       "      <th>3</th>\n",
       "      <td>Image_4.jpg</td>\n",
       "      <td>MONARCH</td>\n",
       "    </tr>\n",
       "    <tr>\n",
       "      <th>4</th>\n",
       "      <td>Image_5.jpg</td>\n",
       "      <td>GREEN CELLED CATTLEHEART</td>\n",
       "    </tr>\n",
       "    <tr>\n",
       "      <th>5</th>\n",
       "      <td>Image_6.jpg</td>\n",
       "      <td>CAIRNS BIRDWING</td>\n",
       "    </tr>\n",
       "    <tr>\n",
       "      <th>6</th>\n",
       "      <td>Image_7.jpg</td>\n",
       "      <td>GREEN CELLED CATTLEHEART</td>\n",
       "    </tr>\n",
       "    <tr>\n",
       "      <th>7</th>\n",
       "      <td>Image_8.jpg</td>\n",
       "      <td>EASTERN DAPPLE WHITE</td>\n",
       "    </tr>\n",
       "    <tr>\n",
       "      <th>8</th>\n",
       "      <td>Image_9.jpg</td>\n",
       "      <td>BROWN SIPROETA</td>\n",
       "    </tr>\n",
       "    <tr>\n",
       "      <th>9</th>\n",
       "      <td>Image_10.jpg</td>\n",
       "      <td>RED POSTMAN</td>\n",
       "    </tr>\n",
       "  </tbody>\n",
       "</table>\n",
       "</div>"
      ],
      "text/plain": [
       "       filename                     label\n",
       "0   Image_1.jpg          SOUTHERN DOGFACE\n",
       "1   Image_2.jpg                    ADONIS\n",
       "2   Image_3.jpg            BROWN SIPROETA\n",
       "3   Image_4.jpg                   MONARCH\n",
       "4   Image_5.jpg  GREEN CELLED CATTLEHEART\n",
       "5   Image_6.jpg           CAIRNS BIRDWING\n",
       "6   Image_7.jpg  GREEN CELLED CATTLEHEART\n",
       "7   Image_8.jpg      EASTERN DAPPLE WHITE\n",
       "8   Image_9.jpg            BROWN SIPROETA\n",
       "9  Image_10.jpg               RED POSTMAN"
      ]
     },
     "execution_count": 9,
     "metadata": {},
     "output_type": "execute_result"
    }
   ],
   "source": [
    "df.head(10)"
   ]
  },
  {
   "cell_type": "code",
   "execution_count": 11,
   "metadata": {},
   "outputs": [
    {
     "name": "stdout",
     "output_type": "stream",
     "text": [
      "<class 'pandas.core.frame.DataFrame'>\n",
      "RangeIndex: 6499 entries, 0 to 6498\n",
      "Data columns (total 2 columns):\n",
      " #   Column    Non-Null Count  Dtype \n",
      "---  ------    --------------  ----- \n",
      " 0   filename  6499 non-null   object\n",
      " 1   label     6499 non-null   object\n",
      "dtypes: object(2)\n",
      "memory usage: 101.7+ KB\n"
     ]
    }
   ],
   "source": [
    "df.info()"
   ]
  },
  {
   "cell_type": "code",
   "execution_count": 12,
   "metadata": {},
   "outputs": [
    {
     "data": {
      "text/plain": [
       "(6499, 2)"
      ]
     },
     "execution_count": 12,
     "metadata": {},
     "output_type": "execute_result"
    }
   ],
   "source": [
    "df.shape"
   ]
  },
  {
   "cell_type": "code",
   "execution_count": 14,
   "metadata": {},
   "outputs": [
    {
     "data": {
      "text/plain": [
       "75"
      ]
     },
     "execution_count": 14,
     "metadata": {},
     "output_type": "execute_result"
    }
   ],
   "source": [
    "df['label'].nunique()"
   ]
  },
  {
   "cell_type": "code",
   "execution_count": 13,
   "metadata": {},
   "outputs": [
    {
     "data": {
      "text/plain": [
       "array(['SOUTHERN DOGFACE', 'ADONIS', 'BROWN SIPROETA', 'MONARCH',\n",
       "       'GREEN CELLED CATTLEHEART', 'CAIRNS BIRDWING',\n",
       "       'EASTERN DAPPLE WHITE', 'RED POSTMAN', 'MANGROVE SKIPPER',\n",
       "       'BLACK HAIRSTREAK', 'CABBAGE WHITE', 'RED ADMIRAL', 'PAINTED LADY',\n",
       "       'PAPER KITE', 'SOOTYWING', 'PINE WHITE', 'PEACOCK',\n",
       "       'CHECQUERED SKIPPER', 'JULIA', 'COMMON WOOD-NYMPH', 'BLUE MORPHO',\n",
       "       'CLOUDED SULPHUR', 'STRAITED QUEEN', 'ORANGE OAKLEAF',\n",
       "       'PURPLISH COPPER', 'ATALA', 'IPHICLUS SISTER', 'DANAID EGGFLY',\n",
       "       'LARGE MARBLE', 'PIPEVINE SWALLOW', 'BLUE SPOTTED CROW',\n",
       "       'RED CRACKER', 'QUESTION MARK', 'CRIMSON PATCH', 'BANDED PEACOCK',\n",
       "       'SCARCE SWALLOW', 'COPPER TAIL', 'GREAT JAY', 'INDRA SWALLOW',\n",
       "       'VICEROY', 'MALACHITE', 'APPOLLO', 'TWO BARRED FLASHER',\n",
       "       'MOURNING CLOAK', 'TROPICAL LEAFWING', 'POPINJAY', 'ORANGE TIP',\n",
       "       'GOLD BANDED', 'BECKERS WHITE', 'RED SPOTTED PURPLE',\n",
       "       'MILBERTS TORTOISESHELL', 'SILVER SPOT SKIPPER', 'AMERICAN SNOOT',\n",
       "       'AN 88', 'ULYSES', 'COMMON BANDED AWL', 'CRECENT', 'METALMARK',\n",
       "       'SLEEPY ORANGE', 'PURPLE HAIRSTREAK', 'ELBOWED PIERROT',\n",
       "       'GREAT EGGFLY', 'ORCHARD SWALLOW', 'ZEBRA LONG WING', 'WOOD SATYR',\n",
       "       'MESTRA', 'EASTERN PINE ELFIN', 'EASTERN COMA',\n",
       "       'YELLOW SWALLOW TAIL', 'CLEOPATRA', 'GREY HAIRSTREAK',\n",
       "       'BANDED ORANGE HELICONIAN', 'AFRICAN GIANT SWALLOWTAIL',\n",
       "       'CHESTNUT', 'CLODIUS PARNASSIAN'], dtype=object)"
      ]
     },
     "execution_count": 13,
     "metadata": {},
     "output_type": "execute_result"
    }
   ],
   "source": [
    "df['label'].unique()"
   ]
  },
  {
   "cell_type": "code",
   "execution_count": null,
   "metadata": {},
   "outputs": [],
   "source": []
  }
 ],
 "metadata": {
  "kernelspec": {
   "display_name": "myenv",
   "language": "python",
   "name": "python3"
  },
  "language_info": {
   "codemirror_mode": {
    "name": "ipython",
    "version": 3
   },
   "file_extension": ".py",
   "mimetype": "text/x-python",
   "name": "python",
   "nbconvert_exporter": "python",
   "pygments_lexer": "ipython3",
   "version": "3.9.6"
  }
 },
 "nbformat": 4,
 "nbformat_minor": 2
}
